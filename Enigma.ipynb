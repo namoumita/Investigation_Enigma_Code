{
  "nbformat": 4,
  "nbformat_minor": 0,
  "metadata": {
    "colab": {
      "provenance": []
    },
    "kernelspec": {
      "name": "python3",
      "display_name": "Python 3"
    },
    "language_info": {
      "name": "python"
    }
  },
  "cells": [
    {
      "cell_type": "markdown",
      "source": [
        "**1. History of Enigma**\n",
        "\n",
        "The Enigma machine was a cipher device used by Nazi Germany during World War II to encode military messages. Its cryptographic strength lay in the complex configuration of rotors, plugboards, and stepping mechanisms. Despite this complexity, the code was famously broken by Polish mathematicians Marian Rejewski, Jerzy Różycki, and Henryk Zygalski in the 1930s, with later advances at Bletchley Park (led by Alan Turing) during the war. This investigation explores the mathematics underpinning the Enigma machine, focusing on permutations and group theory, and uses SageMath to simulate core aspects of its functionality"
      ],
      "metadata": {
        "id": "GwAMVXnLbLum"
      }
    },
    {
      "cell_type": "markdown",
      "source": [
        "**2. Mathematical Background**\n",
        "\n",
        "2.1 Permutations and Group Theory\n",
        "\n",
        "*  The Enigma machine relies on permutations, particularly of the symmetric group S(26)​ (since there are 26 letters in the alphabet).\n",
        "*  Each rotor performs a permutation, and the plugboard adds another permutation before and after the rotor mechanism\n",
        "\n",
        "2.2 Composition of Permutations\n",
        "\n",
        "\n",
        "*   The encryption at any position can be modeled as:\n",
        "    E=P⋅Rn​⋅Rn−1​⋅…⋅R1​⋅M⋅R1−1​⋅…⋅Rn−1​⋅P\n",
        "\n",
        "Where:\n",
        "\n",
        "P: plugboard permutation\n",
        "\n",
        "Ri​: rotor permutations\n",
        "\n",
        "M: reflector permutation\n"
      ],
      "metadata": {
        "id": "lkSJb7uFbiHm"
      }
    },
    {
      "cell_type": "markdown",
      "source": [
        "**3. Enigma Model Implementation in Sage**\n",
        "We'll simulate a simplified Enigma machine using Sage. The key elements to code:\n",
        "\n",
        "*   Rotors (as permutations)\n",
        "*   Reflector\n",
        "*   Plugboard\n",
        "*   Rotor stepping mechanism\n"
      ],
      "metadata": {
        "id": "uDNWazAacLJE"
      }
    },
    {
      "cell_type": "markdown",
      "source": [
        "**4. The Set-up**"
      ],
      "metadata": {
        "id": "9_aikaIoce9O"
      }
    },
    {
      "cell_type": "code",
      "source": [
        "# Alphabet and utility\n",
        "alphabet = list(\"ABCDEFGHIJKLMNOPQRSTUVWXYZ\")\n",
        "alpha_dict = {ch: i for i, ch in enumerate(alphabet)}\n",
        "index_dict = {i: ch for i, ch in enumerate(alphabet)}\n",
        "\n",
        "# Define a helper to convert 0-based list to 1-based for Sage Permutation\n",
        "def one_based(lst):\n",
        "    return [x + 1 for x in lst]\n",
        "\n",
        "# Rotor and reflector definitions (1-based)\n",
        "# Define rotors (3 examples) and reflector\n",
        "rotor_I = Permutation(one_based([4, 10, 12, 5, 11, 6, 3, 16, 21, 25, 13, 19, 14, 22, 24, 7, 23, 20, 18, 15, 0, 8, 1, 17, 2, 9]))\n",
        "rotor_II = Permutation(one_based([0, 9, 3, 10, 18, 8, 17, 20, 23, 1, 11, 7, 22, 19, 12, 2, 16, 6, 25, 13, 15, 24, 5, 21, 14, 4]))\n",
        "rotor_III = Permutation(one_based([1, 3, 5, 7, 9, 11, 2, 15, 17, 19, 23, 21, 25, 13, 24, 4, 8, 22, 6, 0, 10, 12, 20, 18, 16, 14]))\n",
        "reflector_B = Permutation(one_based([24, 17, 20, 7, 16, 18, 11, 3, 15, 23, 13, 6, 14, 10, 12, 8, 4, 1, 5, 25, 2, 22, 21, 9, 0, 19]))\n",
        "plugboard = Permutation(one_based([1, 0, 3, 2] + list(range(4, 26))))\n",
        "\n",
        "#Rotor     Step without turnover mechanism\n",
        "def step_rotor(rotor):\n",
        "    # Convert permutation to list of mappings\n",
        "    perm_list = list(rotor)\n",
        "    # Rotate the permutation by shifting all elements right by 1\n",
        "    rotated = [perm_list[-1]] + perm_list[:-1]\n",
        "    return Permutation(rotated)\n",
        "\n",
        "#Encryption/Decryption Function (for single character)\n",
        "def enigma_letter_3rotor(ch, r1, r2, r3, reflector, plugboard):\n",
        "    idx = alpha_dict[ch] + 1  # 1-based index\n",
        "    idx = plugboard(idx)\n",
        "    idx = r3(idx)\n",
        "    idx = r2(idx)\n",
        "    idx = r1(idx)\n",
        "    idx = reflector(idx)\n",
        "    idx = r1.inverse()(idx)\n",
        "    idx = r2.inverse()(idx)\n",
        "    idx = r3.inverse()(idx)\n",
        "    idx = plugboard(idx)\n",
        "    return index_dict[idx - 1]\n",
        "\n",
        "#For full message\n",
        "def enigma_message_3rotor(msg, r1_start, r2_start, r3_start, reflector, plugboard):\n",
        "    r1 = r1_start\n",
        "    r2 = r2_start\n",
        "    r3 = r3_start\n",
        "    result = \"\"\n",
        "    for i, ch in enumerate(msg):\n",
        "        if ch not in alphabet:\n",
        "            result += ch\n",
        "            continue\n",
        "        result += enigma_letter_3rotor(ch, r1, r2, r3, reflector, plugboard)\n",
        "        # Step rotors: r3 every letter, r2 every 26 steps, r1 every 26*26 steps\n",
        "        r3 = step_rotor(r3)\n",
        "        if i % 26 == 25:\n",
        "            r2 = step_rotor(r2)\n",
        "        if i % (26 * 26) == (26 * 26 - 1):\n",
        "            r1 = step_rotor(r1)\n",
        "    return result"
      ],
      "metadata": {
        "id": "Fm1Aco6FcdoK"
      },
      "execution_count": null,
      "outputs": []
    },
    {
      "cell_type": "markdown",
      "source": [
        "**5. Encryption Code**"
      ],
      "metadata": {
        "id": "Y9YnQfZwcrHm"
      }
    },
    {
      "cell_type": "code",
      "execution_count": null,
      "metadata": {
        "colab": {
          "base_uri": "https://localhost:8080/",
          "height": 211
        },
        "id": "XLNd04xWdftK",
        "outputId": "c722a8f1-ac26-40bb-b039-a84b1442892a"
      },
      "outputs": [
        {
          "output_type": "error",
          "ename": "NameError",
          "evalue": "name 'Permutation' is not defined",
          "traceback": [
            "\u001b[0;31m---------------------------------------------------------------------------\u001b[0m",
            "\u001b[0;31mNameError\u001b[0m                                 Traceback (most recent call last)",
            "\u001b[0;32m<ipython-input-10-e13cc626d1e8>\u001b[0m in \u001b[0;36m<cell line: 0>\u001b[0;34m()\u001b[0m\n\u001b[1;32m      9\u001b[0m \u001b[0;34m\u001b[0m\u001b[0m\n\u001b[1;32m     10\u001b[0m \u001b[0;31m# Rotor and reflector definitions (1-based)\u001b[0m\u001b[0;34m\u001b[0m\u001b[0;34m\u001b[0m\u001b[0m\n\u001b[0;32m---> 11\u001b[0;31m \u001b[0mrotor_I\u001b[0m \u001b[0;34m=\u001b[0m \u001b[0mPermutation\u001b[0m\u001b[0;34m(\u001b[0m\u001b[0mone_based\u001b[0m\u001b[0;34m(\u001b[0m\u001b[0;34m[\u001b[0m\u001b[0;36m4\u001b[0m\u001b[0;34m,\u001b[0m \u001b[0;36m10\u001b[0m\u001b[0;34m,\u001b[0m \u001b[0;36m12\u001b[0m\u001b[0;34m,\u001b[0m \u001b[0;36m5\u001b[0m\u001b[0;34m,\u001b[0m \u001b[0;36m11\u001b[0m\u001b[0;34m,\u001b[0m \u001b[0;36m6\u001b[0m\u001b[0;34m,\u001b[0m \u001b[0;36m3\u001b[0m\u001b[0;34m,\u001b[0m \u001b[0;36m16\u001b[0m\u001b[0;34m,\u001b[0m \u001b[0;36m21\u001b[0m\u001b[0;34m,\u001b[0m \u001b[0;36m25\u001b[0m\u001b[0;34m,\u001b[0m \u001b[0;36m13\u001b[0m\u001b[0;34m,\u001b[0m \u001b[0;36m19\u001b[0m\u001b[0;34m,\u001b[0m \u001b[0;36m14\u001b[0m\u001b[0;34m,\u001b[0m \u001b[0;36m22\u001b[0m\u001b[0;34m,\u001b[0m \u001b[0;36m24\u001b[0m\u001b[0;34m,\u001b[0m \u001b[0;36m7\u001b[0m\u001b[0;34m,\u001b[0m \u001b[0;36m23\u001b[0m\u001b[0;34m,\u001b[0m \u001b[0;36m20\u001b[0m\u001b[0;34m,\u001b[0m \u001b[0;36m18\u001b[0m\u001b[0;34m,\u001b[0m \u001b[0;36m15\u001b[0m\u001b[0;34m,\u001b[0m \u001b[0;36m0\u001b[0m\u001b[0;34m,\u001b[0m \u001b[0;36m8\u001b[0m\u001b[0;34m,\u001b[0m \u001b[0;36m1\u001b[0m\u001b[0;34m,\u001b[0m \u001b[0;36m17\u001b[0m\u001b[0;34m,\u001b[0m \u001b[0;36m2\u001b[0m\u001b[0;34m,\u001b[0m \u001b[0;36m9\u001b[0m\u001b[0;34m]\u001b[0m\u001b[0;34m)\u001b[0m\u001b[0;34m)\u001b[0m\u001b[0;34m\u001b[0m\u001b[0;34m\u001b[0m\u001b[0m\n\u001b[0m\u001b[1;32m     12\u001b[0m \u001b[0mreflector_B\u001b[0m \u001b[0;34m=\u001b[0m \u001b[0mPermutation\u001b[0m\u001b[0;34m(\u001b[0m\u001b[0mone_based\u001b[0m\u001b[0;34m(\u001b[0m\u001b[0;34m[\u001b[0m\u001b[0;36m24\u001b[0m\u001b[0;34m,\u001b[0m \u001b[0;36m17\u001b[0m\u001b[0;34m,\u001b[0m \u001b[0;36m20\u001b[0m\u001b[0;34m,\u001b[0m \u001b[0;36m7\u001b[0m\u001b[0;34m,\u001b[0m \u001b[0;36m16\u001b[0m\u001b[0;34m,\u001b[0m \u001b[0;36m18\u001b[0m\u001b[0;34m,\u001b[0m \u001b[0;36m11\u001b[0m\u001b[0;34m,\u001b[0m \u001b[0;36m3\u001b[0m\u001b[0;34m,\u001b[0m \u001b[0;36m15\u001b[0m\u001b[0;34m,\u001b[0m \u001b[0;36m23\u001b[0m\u001b[0;34m,\u001b[0m \u001b[0;36m13\u001b[0m\u001b[0;34m,\u001b[0m \u001b[0;36m6\u001b[0m\u001b[0;34m,\u001b[0m \u001b[0;36m14\u001b[0m\u001b[0;34m,\u001b[0m \u001b[0;36m10\u001b[0m\u001b[0;34m,\u001b[0m \u001b[0;36m12\u001b[0m\u001b[0;34m,\u001b[0m \u001b[0;36m8\u001b[0m\u001b[0;34m,\u001b[0m \u001b[0;36m4\u001b[0m\u001b[0;34m,\u001b[0m \u001b[0;36m1\u001b[0m\u001b[0;34m,\u001b[0m \u001b[0;36m5\u001b[0m\u001b[0;34m,\u001b[0m \u001b[0;36m25\u001b[0m\u001b[0;34m,\u001b[0m \u001b[0;36m2\u001b[0m\u001b[0;34m,\u001b[0m \u001b[0;36m22\u001b[0m\u001b[0;34m,\u001b[0m \u001b[0;36m21\u001b[0m\u001b[0;34m,\u001b[0m \u001b[0;36m9\u001b[0m\u001b[0;34m,\u001b[0m \u001b[0;36m0\u001b[0m\u001b[0;34m,\u001b[0m \u001b[0;36m19\u001b[0m\u001b[0;34m]\u001b[0m\u001b[0;34m)\u001b[0m\u001b[0;34m)\u001b[0m\u001b[0;34m\u001b[0m\u001b[0;34m\u001b[0m\u001b[0m\n\u001b[1;32m     13\u001b[0m \u001b[0mplugboard\u001b[0m \u001b[0;34m=\u001b[0m \u001b[0mPermutation\u001b[0m\u001b[0;34m(\u001b[0m\u001b[0mone_based\u001b[0m\u001b[0;34m(\u001b[0m\u001b[0;34m[\u001b[0m\u001b[0;36m1\u001b[0m\u001b[0;34m,\u001b[0m \u001b[0;36m0\u001b[0m\u001b[0;34m,\u001b[0m \u001b[0;36m3\u001b[0m\u001b[0;34m,\u001b[0m \u001b[0;36m2\u001b[0m\u001b[0;34m]\u001b[0m \u001b[0;34m+\u001b[0m \u001b[0mlist\u001b[0m\u001b[0;34m(\u001b[0m\u001b[0mrange\u001b[0m\u001b[0;34m(\u001b[0m\u001b[0;36m4\u001b[0m\u001b[0;34m,\u001b[0m \u001b[0;36m26\u001b[0m\u001b[0;34m)\u001b[0m\u001b[0;34m)\u001b[0m\u001b[0;34m)\u001b[0m\u001b[0;34m)\u001b[0m\u001b[0;34m\u001b[0m\u001b[0;34m\u001b[0m\u001b[0m\n",
            "\u001b[0;31mNameError\u001b[0m: name 'Permutation' is not defined"
          ]
        }
      ],
      "source": [
        "message = \"GERMAN\"\n",
        "r1_start = rotor_I\n",
        "r2_start = rotor_II\n",
        "r3_start = rotor_III\n",
        "\n",
        "ciphertext = enigma_message_3rotor(message, r1_start, r2_start, r3_start, reflector_B, plugboard)\n",
        "print(\"Ciphertext:\", ciphertext)"
      ]
    },
    {
      "cell_type": "markdown",
      "source": [
        "**6. Decryption Message**"
      ],
      "metadata": {
        "id": "bTYNY6fnc08_"
      }
    },
    {
      "cell_type": "code",
      "source": [
        "# Must reset rotors to same starting positions\n",
        "decoded = enigma_message_3rotor(ciphertext, rotor_I, rotor_II, rotor_III, reflector_B, plugboard)\n",
        "print(\"Decoded:\", decoded)"
      ],
      "metadata": {
        "colab": {
          "base_uri": "https://localhost:8080/",
          "height": 211
        },
        "id": "O8NHD8cneinx",
        "outputId": "05ef3ff1-88e0-4be6-d60b-28edee524753"
      },
      "execution_count": null,
      "outputs": [
        {
          "output_type": "error",
          "ename": "NameError",
          "evalue": "name 'Permutation' is not defined",
          "traceback": [
            "\u001b[0;31m---------------------------------------------------------------------------\u001b[0m",
            "\u001b[0;31mNameError\u001b[0m                                 Traceback (most recent call last)",
            "\u001b[0;32m<ipython-input-1-51c087456fcc>\u001b[0m in \u001b[0;36m<cell line: 0>\u001b[0;34m()\u001b[0m\n\u001b[1;32m     10\u001b[0m \u001b[0;34m\u001b[0m\u001b[0m\n\u001b[1;32m     11\u001b[0m \u001b[0;31m# Rotor and reflector definitions (1-based)\u001b[0m\u001b[0;34m\u001b[0m\u001b[0;34m\u001b[0m\u001b[0m\n\u001b[0;32m---> 12\u001b[0;31m \u001b[0mrotor_I\u001b[0m \u001b[0;34m=\u001b[0m \u001b[0mPermutation\u001b[0m\u001b[0;34m(\u001b[0m\u001b[0mone_based\u001b[0m\u001b[0;34m(\u001b[0m\u001b[0;34m[\u001b[0m\u001b[0;36m4\u001b[0m\u001b[0;34m,\u001b[0m \u001b[0;36m10\u001b[0m\u001b[0;34m,\u001b[0m \u001b[0;36m12\u001b[0m\u001b[0;34m,\u001b[0m \u001b[0;36m5\u001b[0m\u001b[0;34m,\u001b[0m \u001b[0;36m11\u001b[0m\u001b[0;34m,\u001b[0m \u001b[0;36m6\u001b[0m\u001b[0;34m,\u001b[0m \u001b[0;36m3\u001b[0m\u001b[0;34m,\u001b[0m \u001b[0;36m16\u001b[0m\u001b[0;34m,\u001b[0m \u001b[0;36m21\u001b[0m\u001b[0;34m,\u001b[0m \u001b[0;36m25\u001b[0m\u001b[0;34m,\u001b[0m \u001b[0;36m13\u001b[0m\u001b[0;34m,\u001b[0m \u001b[0;36m19\u001b[0m\u001b[0;34m,\u001b[0m \u001b[0;36m14\u001b[0m\u001b[0;34m,\u001b[0m \u001b[0;36m22\u001b[0m\u001b[0;34m,\u001b[0m \u001b[0;36m24\u001b[0m\u001b[0;34m,\u001b[0m \u001b[0;36m7\u001b[0m\u001b[0;34m,\u001b[0m \u001b[0;36m23\u001b[0m\u001b[0;34m,\u001b[0m \u001b[0;36m20\u001b[0m\u001b[0;34m,\u001b[0m \u001b[0;36m18\u001b[0m\u001b[0;34m,\u001b[0m \u001b[0;36m15\u001b[0m\u001b[0;34m,\u001b[0m \u001b[0;36m0\u001b[0m\u001b[0;34m,\u001b[0m \u001b[0;36m8\u001b[0m\u001b[0;34m,\u001b[0m \u001b[0;36m1\u001b[0m\u001b[0;34m,\u001b[0m \u001b[0;36m17\u001b[0m\u001b[0;34m,\u001b[0m \u001b[0;36m2\u001b[0m\u001b[0;34m,\u001b[0m \u001b[0;36m9\u001b[0m\u001b[0;34m]\u001b[0m\u001b[0;34m)\u001b[0m\u001b[0;34m)\u001b[0m\u001b[0;34m\u001b[0m\u001b[0;34m\u001b[0m\u001b[0m\n\u001b[0m\u001b[1;32m     13\u001b[0m \u001b[0mreflector_B\u001b[0m \u001b[0;34m=\u001b[0m \u001b[0mPermutation\u001b[0m\u001b[0;34m(\u001b[0m\u001b[0mone_based\u001b[0m\u001b[0;34m(\u001b[0m\u001b[0;34m[\u001b[0m\u001b[0;36m24\u001b[0m\u001b[0;34m,\u001b[0m \u001b[0;36m17\u001b[0m\u001b[0;34m,\u001b[0m \u001b[0;36m20\u001b[0m\u001b[0;34m,\u001b[0m \u001b[0;36m7\u001b[0m\u001b[0;34m,\u001b[0m \u001b[0;36m16\u001b[0m\u001b[0;34m,\u001b[0m \u001b[0;36m18\u001b[0m\u001b[0;34m,\u001b[0m \u001b[0;36m11\u001b[0m\u001b[0;34m,\u001b[0m \u001b[0;36m3\u001b[0m\u001b[0;34m,\u001b[0m \u001b[0;36m15\u001b[0m\u001b[0;34m,\u001b[0m \u001b[0;36m23\u001b[0m\u001b[0;34m,\u001b[0m \u001b[0;36m13\u001b[0m\u001b[0;34m,\u001b[0m \u001b[0;36m6\u001b[0m\u001b[0;34m,\u001b[0m \u001b[0;36m14\u001b[0m\u001b[0;34m,\u001b[0m \u001b[0;36m10\u001b[0m\u001b[0;34m,\u001b[0m \u001b[0;36m12\u001b[0m\u001b[0;34m,\u001b[0m \u001b[0;36m8\u001b[0m\u001b[0;34m,\u001b[0m \u001b[0;36m4\u001b[0m\u001b[0;34m,\u001b[0m \u001b[0;36m1\u001b[0m\u001b[0;34m,\u001b[0m \u001b[0;36m5\u001b[0m\u001b[0;34m,\u001b[0m \u001b[0;36m25\u001b[0m\u001b[0;34m,\u001b[0m \u001b[0;36m2\u001b[0m\u001b[0;34m,\u001b[0m \u001b[0;36m22\u001b[0m\u001b[0;34m,\u001b[0m \u001b[0;36m21\u001b[0m\u001b[0;34m,\u001b[0m \u001b[0;36m9\u001b[0m\u001b[0;34m,\u001b[0m \u001b[0;36m0\u001b[0m\u001b[0;34m,\u001b[0m \u001b[0;36m19\u001b[0m\u001b[0;34m]\u001b[0m\u001b[0;34m)\u001b[0m\u001b[0;34m)\u001b[0m\u001b[0;34m\u001b[0m\u001b[0;34m\u001b[0m\u001b[0m\n\u001b[1;32m     14\u001b[0m \u001b[0mplugboard\u001b[0m \u001b[0;34m=\u001b[0m \u001b[0mPermutation\u001b[0m\u001b[0;34m(\u001b[0m\u001b[0mone_based\u001b[0m\u001b[0;34m(\u001b[0m\u001b[0;34m[\u001b[0m\u001b[0;36m1\u001b[0m\u001b[0;34m,\u001b[0m \u001b[0;36m0\u001b[0m\u001b[0;34m,\u001b[0m \u001b[0;36m3\u001b[0m\u001b[0;34m,\u001b[0m \u001b[0;36m2\u001b[0m\u001b[0;34m]\u001b[0m \u001b[0;34m+\u001b[0m \u001b[0mlist\u001b[0m\u001b[0;34m(\u001b[0m\u001b[0mrange\u001b[0m\u001b[0;34m(\u001b[0m\u001b[0;36m4\u001b[0m\u001b[0;34m,\u001b[0m \u001b[0;36m26\u001b[0m\u001b[0;34m)\u001b[0m\u001b[0;34m)\u001b[0m\u001b[0;34m)\u001b[0m\u001b[0;34m)\u001b[0m\u001b[0;34m\u001b[0m\u001b[0;34m\u001b[0m\u001b[0m\n",
            "\u001b[0;31mNameError\u001b[0m: name 'Permutation' is not defined"
          ]
        }
      ]
    },
    {
      "cell_type": "markdown",
      "source": [
        "**7. Observations:**\n",
        "\n",
        "*   The Enigma machine simulation successfully encodes a plaintext message into a non-readable ciphertext using a 3-rotor configuration, plugboard, and reflector.\n",
        "*   The encryption is highly sensitive to rotor positions: if the rotors are not reset to their initial starting positions, decoding fails or produces garbage.\n",
        "*   When the exact same initial rotor settings are used, the encryption function is reversible — applying the same process again to the ciphertext accurately reproduces the original message.\n",
        "*   Rotor stepping introduces variability: even if a letter repeats (e.g., multiple “A”s), its encoded result changes over time, making frequency analysis difficult.\n",
        "*   The plugboard adds another layer of permutation before and after the rotor processes, contributing to the overall complexity of the cipher.\n",
        "*   This setup captures the core idea of the historical Enigma: the combination of substitution (via rotors and plugboard) and mechanical advancement (via rotor stepping) yields a polyalphabetic cipher that is extremely hard to break without knowing the exact machine settings.\n",
        "\n",
        "\n",
        "\n"
      ],
      "metadata": {
        "id": "H87qguHQdDPg"
      }
    }
  ]
}